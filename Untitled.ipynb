{
 "cells": [
  {
   "cell_type": "code",
   "execution_count": 1,
   "metadata": {
    "collapsed": true
   },
   "outputs": [],
   "source": [
    "import requests"
   ]
  },
  {
   "cell_type": "code",
   "execution_count": 70,
   "metadata": {
    "collapsed": true
   },
   "outputs": [],
   "source": [
    "import pandas as pd\n",
    "import numpy as np"
   ]
  },
  {
   "cell_type": "code",
   "execution_count": 43,
   "metadata": {
    "collapsed": true
   },
   "outputs": [],
   "source": [
    "payload = {'format':'json','countyCd':'48201','period':'P7D',\n",
    "           'statCd':'00003','parameterCd':'00060','siteStatus':'all'}"
   ]
  },
  {
   "cell_type": "code",
   "execution_count": 3,
   "metadata": {
    "collapsed": true
   },
   "outputs": [],
   "source": [
    "url = 'https://waterservices.usgs.gov/nwis/dv'"
   ]
  },
  {
   "cell_type": "code",
   "execution_count": 44,
   "metadata": {
    "collapsed": true
   },
   "outputs": [],
   "source": [
    "r = requests.get(url, params=payload)"
   ]
  },
  {
   "cell_type": "code",
   "execution_count": 46,
   "metadata": {
    "collapsed": false,
    "scrolled": true
   },
   "outputs": [],
   "source": [
    "injs = r.json()"
   ]
  },
  {
   "cell_type": "code",
   "execution_count": 53,
   "metadata": {
    "collapsed": false
   },
   "outputs": [
    {
     "data": {
      "text/plain": [
       "[{u'dateTime': u'2017-11-30T00:00:00.000',\n",
       "  u'qualifiers': [u'P'],\n",
       "  u'value': u'2.02'},\n",
       " {u'dateTime': u'2017-12-01T00:00:00.000',\n",
       "  u'qualifiers': [u'P'],\n",
       "  u'value': u'2.19'},\n",
       " {u'dateTime': u'2017-12-02T00:00:00.000',\n",
       "  u'qualifiers': [u'P'],\n",
       "  u'value': u'1.93'},\n",
       " {u'dateTime': u'2017-12-03T00:00:00.000',\n",
       "  u'qualifiers': [u'P'],\n",
       "  u'value': u'4.58'},\n",
       " {u'dateTime': u'2017-12-04T00:00:00.000',\n",
       "  u'qualifiers': [u'P'],\n",
       "  u'value': u'18.7'},\n",
       " {u'dateTime': u'2017-12-05T00:00:00.000',\n",
       "  u'qualifiers': [u'P'],\n",
       "  u'value': u'14.7'},\n",
       " {u'dateTime': u'2017-12-06T00:00:00.000',\n",
       "  u'qualifiers': [u'P'],\n",
       "  u'value': u'12.5'}]"
      ]
     },
     "execution_count": 53,
     "metadata": {},
     "output_type": "execute_result"
    }
   ],
   "source": [
    "injs['value']['timeSeries'][0]['values'][0]['value']"
   ]
  },
  {
   "cell_type": "code",
   "execution_count": 57,
   "metadata": {
    "collapsed": false
   },
   "outputs": [],
   "source": [
    "sitelat=[];\n",
    "sitelong=[];\n",
    "for s in injs['value']['timeSeries']:\n",
    "    sitelat.append(s['sourceInfo']['geoLocation']['geogLocation']['latitude'])\n",
    "    sitelong.append(s['sourceInfo']['geoLocation']['geogLocation']['longitude'])"
   ]
  },
  {
   "cell_type": "code",
   "execution_count": 86,
   "metadata": {
    "collapsed": false
   },
   "outputs": [],
   "source": [
    "vals=[];\n",
    "datetimes=[];\n",
    "for s in injs['value']['timeSeries']:\n",
    "    val = [];\n",
    "    dat = [];\n",
    "    for v in s['values'][0]['value']:\n",
    "        val.append(float(v['value']))\n",
    "        dat.append(v['dateTime'])\n",
    "    vals.append(val)\n",
    "    datetimes.append(dat)"
   ]
  },
  {
   "cell_type": "code",
   "execution_count": 89,
   "metadata": {
    "collapsed": false
   },
   "outputs": [
    {
     "data": {
      "text/plain": [
       "[2.02, 2.19, 1.93, 4.58, 18.7, 14.7, 12.5]"
      ]
     },
     "execution_count": 89,
     "metadata": {},
     "output_type": "execute_result"
    }
   ],
   "source": [
    "vals[0]"
   ]
  },
  {
   "cell_type": "code",
   "execution_count": 42,
   "metadata": {
    "collapsed": false
   },
   "outputs": [
    {
     "data": {
      "text/html": [
       "<div>\n",
       "<table border=\"1\" class=\"dataframe\">\n",
       "  <thead>\n",
       "    <tr style=\"text-align: right;\">\n",
       "      <th></th>\n",
       "      <th>agency_cd</th>\n",
       "      <th>site_no</th>\n",
       "      <th>datetime</th>\n",
       "      <th>134429_00060_00003</th>\n",
       "      <th>134429_00060_00003_cd</th>\n",
       "      <th>134430_00065_00003</th>\n",
       "      <th>134430_00065_00003_cd</th>\n",
       "    </tr>\n",
       "  </thead>\n",
       "  <tbody>\n",
       "    <tr>\n",
       "      <th>0</th>\n",
       "      <td>5s</td>\n",
       "      <td>15s</td>\n",
       "      <td>20d</td>\n",
       "      <td>14n</td>\n",
       "      <td>10s</td>\n",
       "      <td>14n</td>\n",
       "      <td>10s</td>\n",
       "    </tr>\n",
       "    <tr>\n",
       "      <th>1</th>\n",
       "      <td>USGS</td>\n",
       "      <td>08074500</td>\n",
       "      <td>2017-11-30</td>\n",
       "      <td>46.3</td>\n",
       "      <td>P</td>\n",
       "      <td>7.77</td>\n",
       "      <td>P</td>\n",
       "    </tr>\n",
       "    <tr>\n",
       "      <th>2</th>\n",
       "      <td>USGS</td>\n",
       "      <td>08074500</td>\n",
       "      <td>2017-12-01</td>\n",
       "      <td>43.2</td>\n",
       "      <td>P</td>\n",
       "      <td>7.72</td>\n",
       "      <td>P</td>\n",
       "    </tr>\n",
       "    <tr>\n",
       "      <th>3</th>\n",
       "      <td>USGS</td>\n",
       "      <td>08074500</td>\n",
       "      <td>2017-12-02</td>\n",
       "      <td>43.2</td>\n",
       "      <td>P</td>\n",
       "      <td>7.72</td>\n",
       "      <td>P</td>\n",
       "    </tr>\n",
       "    <tr>\n",
       "      <th>4</th>\n",
       "      <td>USGS</td>\n",
       "      <td>08074500</td>\n",
       "      <td>2017-12-03</td>\n",
       "      <td>329</td>\n",
       "      <td>P</td>\n",
       "      <td>8.90</td>\n",
       "      <td>P</td>\n",
       "    </tr>\n",
       "  </tbody>\n",
       "</table>\n",
       "</div>"
      ],
      "text/plain": [
       "  agency_cd   site_no    datetime 134429_00060_00003 134429_00060_00003_cd  \\\n",
       "0        5s       15s         20d                14n                   10s   \n",
       "1      USGS  08074500  2017-11-30               46.3                     P   \n",
       "2      USGS  08074500  2017-12-01               43.2                     P   \n",
       "3      USGS  08074500  2017-12-02               43.2                     P   \n",
       "4      USGS  08074500  2017-12-03                329                     P   \n",
       "\n",
       "  134430_00065_00003 134430_00065_00003_cd  \n",
       "0                14n                   10s  \n",
       "1               7.77                     P  \n",
       "2               7.72                     P  \n",
       "3               7.72                     P  \n",
       "4               8.90                     P  "
      ]
     },
     "execution_count": 42,
     "metadata": {},
     "output_type": "execute_result"
    }
   ],
   "source": [
    "plt.plot"
   ]
  },
  {
   "cell_type": "code",
   "execution_count": null,
   "metadata": {
    "collapsed": true
   },
   "outputs": [],
   "source": []
  }
 ],
 "metadata": {
  "kernelspec": {
   "display_name": "Python 2",
   "language": "python",
   "name": "python2"
  },
  "language_info": {
   "codemirror_mode": {
    "name": "ipython",
    "version": 2
   },
   "file_extension": ".py",
   "mimetype": "text/x-python",
   "name": "python",
   "nbconvert_exporter": "python",
   "pygments_lexer": "ipython2",
   "version": "2.7.14"
  }
 },
 "nbformat": 4,
 "nbformat_minor": 2
}
